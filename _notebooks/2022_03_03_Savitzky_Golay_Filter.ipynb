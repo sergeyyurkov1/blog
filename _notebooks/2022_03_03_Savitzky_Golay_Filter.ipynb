{
  "nbformat": 4,
  "nbformat_minor": 0,
  "metadata": {
    "colab": {
      "name": "2022-03-03-Savitzky-Golay-Filter.ipynb",
      "provenance": [],
      "collapsed_sections": []
    },
    "kernelspec": {
      "name": "python3",
      "display_name": "Python 3"
    },
    "language_info": {
      "name": "python"
    }
  },
  "cells": [
    {
      "cell_type": "markdown",
      "source": [
        "# \"How to smoothen noisy data and find peaks and dips in a line plot using Python\"\n",
        "> \"In this small tutorial we will use the U.S. COVID-19 inoculation data to demonstrate the effect of the Savitzky-Golay filter and find the most prominent peaks and dips in daily vaccinations.\"\n",
        "\n",
        "- toc: false\n",
        "- branch: master\n",
        "- badges: true\n",
        "- comments: true\n",
        "- categories: [python, jupyter]\n",
        "- image: images/Savitzky-Golay-Filter.png\n",
        "- hide: false\n",
        "- search_exclude: false"
      ],
      "metadata": {
        "id": "gApiQB4k_lyV"
      }
    },
    {
      "cell_type": "markdown",
      "source": [
        "Presenting peaks and dips in a noisy line plot can be a bit of a challenge, as there is a lot of unnecessary visual information. Savitzky-Golay filter is a function that can be applied to such data in order to clarify the points with minimal distortion and precision loss. It was formulated for the exact purpose of finding maxima and minima in curve data by Savitzky themselves {% fn 1 %}. In this small tutorial we will use the U.S. COVID-19 inoculation data to demonstrate the effect of the filter and find the most prominent peaks and dips in daily vaccinations. We will use an interactive widget to tweak the optimal parameters for the filter."
      ],
      "metadata": {
        "id": "NlqXgM8r-CcQ"
      }
    },
    {
      "cell_type": "markdown",
      "source": [
        "### Step 1: Install the following Python packages"
      ],
      "metadata": {
        "id": "vvOH3GRiCAin"
      }
    },
    {
      "cell_type": "code",
      "metadata": {
        "id": "CMt45kA_IRUu"
      },
      "source": [
        "!pip install widgetsnbextension ipywidgets jupyter-js-widgets-nbextension ipympl"
      ],
      "execution_count": null,
      "outputs": []
    },
    {
      "cell_type": "markdown",
      "source": [
        "### Step 2: Enable widget support in your Jupyter environment"
      ],
      "metadata": {
        "id": "oIDmQnrpB1W-"
      }
    },
    {
      "cell_type": "code",
      "source": [
        "!jupyter nbextension enable --py widgetsnbextension --sys-prefix"
      ],
      "metadata": {
        "colab": {
          "base_uri": "https://localhost:8080/"
        },
        "id": "aKhJ8-S1B0eE",
        "outputId": "87733bf3-6d5e-410d-d74c-ccd5a58d1968"
      },
      "execution_count": 21,
      "outputs": [
        {
          "output_type": "stream",
          "name": "stdout",
          "text": [
            "Enabling notebook extension jupyter-js-widgets/extension...\n",
            "      - Validating: \u001b[32mOK\u001b[0m\n"
          ]
        }
      ]
    },
    {
      "cell_type": "markdown",
      "source": [
        "### Step 3: Importing the dependencies\n",
        "\n",
        "We will use Pandas to read and manipulate the `.csv` file, Matplotlib for plotting the data, `signal` method from the Scipy package to apply the filter, Numpy and `argrelextrema` function to find the \"extreme\" values in the data, and finally `interactive` to build the necessary sliders."
      ],
      "metadata": {
        "id": "wlFqfhZlDo9J"
      }
    },
    {
      "cell_type": "code",
      "source": [
        "from ipywidgets import interactive\n",
        "\n",
        "import pandas as pd\n",
        "import matplotlib.pyplot as plt\n",
        "from scipy import signal\n",
        "import numpy as np"
      ],
      "metadata": {
        "id": "9Zb5ylCZDTZC"
      },
      "execution_count": null,
      "outputs": []
    },
    {
      "cell_type": "markdown",
      "source": [
        "### Step 4: Import and filter the data by location; we will use a CSV file from Our World in Data."
      ],
      "metadata": {
        "id": "sKQivcB0Cp2p"
      }
    },
    {
      "cell_type": "code",
      "metadata": {
        "id": "W3yrFhS_JfRL",
        "colab": {
          "base_uri": "https://localhost:8080/",
          "height": 455
        },
        "outputId": "809db458-f74a-4929-f612-692efbdfda87"
      },
      "source": [
        "df_raw = pd.read_csv(\"https://raw.githubusercontent.com/owid/covid-19-data/master/public/data/vaccinations/vaccinations.csv\", usecols=[\"location\", \"date\", \"daily_vaccinations\"], parse_dates=[\"date\"])\n",
        "\n",
        "df = df_raw[df_raw[\"location\"] == \"United States\"]\n",
        "\n",
        "df.set_index(\"location\", inplace=True, drop=True)\n",
        "\n",
        "df"
      ],
      "execution_count": null,
      "outputs": [
        {
          "output_type": "execute_result",
          "data": {
            "text/html": [
              "\n",
              "  <div id=\"df-b8da73f2-5296-4497-b675-b5e06d54dbff\">\n",
              "    <div class=\"colab-df-container\">\n",
              "      <div>\n",
              "<style scoped>\n",
              "    .dataframe tbody tr th:only-of-type {\n",
              "        vertical-align: middle;\n",
              "    }\n",
              "\n",
              "    .dataframe tbody tr th {\n",
              "        vertical-align: top;\n",
              "    }\n",
              "\n",
              "    .dataframe thead th {\n",
              "        text-align: right;\n",
              "    }\n",
              "</style>\n",
              "<table border=\"1\" class=\"dataframe\">\n",
              "  <thead>\n",
              "    <tr style=\"text-align: right;\">\n",
              "      <th></th>\n",
              "      <th>date</th>\n",
              "      <th>daily_vaccinations</th>\n",
              "    </tr>\n",
              "    <tr>\n",
              "      <th>location</th>\n",
              "      <th></th>\n",
              "      <th></th>\n",
              "    </tr>\n",
              "  </thead>\n",
              "  <tbody>\n",
              "    <tr>\n",
              "      <th>United States</th>\n",
              "      <td>2020-12-13</td>\n",
              "      <td>NaN</td>\n",
              "    </tr>\n",
              "    <tr>\n",
              "      <th>United States</th>\n",
              "      <td>2020-12-14</td>\n",
              "      <td>4545.0</td>\n",
              "    </tr>\n",
              "    <tr>\n",
              "      <th>United States</th>\n",
              "      <td>2020-12-15</td>\n",
              "      <td>27098.0</td>\n",
              "    </tr>\n",
              "    <tr>\n",
              "      <th>United States</th>\n",
              "      <td>2020-12-16</td>\n",
              "      <td>71299.0</td>\n",
              "    </tr>\n",
              "    <tr>\n",
              "      <th>United States</th>\n",
              "      <td>2020-12-17</td>\n",
              "      <td>121556.0</td>\n",
              "    </tr>\n",
              "    <tr>\n",
              "      <th>...</th>\n",
              "      <td>...</td>\n",
              "      <td>...</td>\n",
              "    </tr>\n",
              "    <tr>\n",
              "      <th>United States</th>\n",
              "      <td>2022-02-25</td>\n",
              "      <td>279746.0</td>\n",
              "    </tr>\n",
              "    <tr>\n",
              "      <th>United States</th>\n",
              "      <td>2022-02-26</td>\n",
              "      <td>271896.0</td>\n",
              "    </tr>\n",
              "    <tr>\n",
              "      <th>United States</th>\n",
              "      <td>2022-02-27</td>\n",
              "      <td>260524.0</td>\n",
              "    </tr>\n",
              "    <tr>\n",
              "      <th>United States</th>\n",
              "      <td>2022-02-28</td>\n",
              "      <td>222105.0</td>\n",
              "    </tr>\n",
              "    <tr>\n",
              "      <th>United States</th>\n",
              "      <td>2022-03-01</td>\n",
              "      <td>176778.0</td>\n",
              "    </tr>\n",
              "  </tbody>\n",
              "</table>\n",
              "<p>444 rows × 2 columns</p>\n",
              "</div>\n",
              "      <button class=\"colab-df-convert\" onclick=\"convertToInteractive('df-b8da73f2-5296-4497-b675-b5e06d54dbff')\"\n",
              "              title=\"Convert this dataframe to an interactive table.\"\n",
              "              style=\"display:none;\">\n",
              "        \n",
              "  <svg xmlns=\"http://www.w3.org/2000/svg\" height=\"24px\"viewBox=\"0 0 24 24\"\n",
              "       width=\"24px\">\n",
              "    <path d=\"M0 0h24v24H0V0z\" fill=\"none\"/>\n",
              "    <path d=\"M18.56 5.44l.94 2.06.94-2.06 2.06-.94-2.06-.94-.94-2.06-.94 2.06-2.06.94zm-11 1L8.5 8.5l.94-2.06 2.06-.94-2.06-.94L8.5 2.5l-.94 2.06-2.06.94zm10 10l.94 2.06.94-2.06 2.06-.94-2.06-.94-.94-2.06-.94 2.06-2.06.94z\"/><path d=\"M17.41 7.96l-1.37-1.37c-.4-.4-.92-.59-1.43-.59-.52 0-1.04.2-1.43.59L10.3 9.45l-7.72 7.72c-.78.78-.78 2.05 0 2.83L4 21.41c.39.39.9.59 1.41.59.51 0 1.02-.2 1.41-.59l7.78-7.78 2.81-2.81c.8-.78.8-2.07 0-2.86zM5.41 20L4 18.59l7.72-7.72 1.47 1.35L5.41 20z\"/>\n",
              "  </svg>\n",
              "      </button>\n",
              "      \n",
              "  <style>\n",
              "    .colab-df-container {\n",
              "      display:flex;\n",
              "      flex-wrap:wrap;\n",
              "      gap: 12px;\n",
              "    }\n",
              "\n",
              "    .colab-df-convert {\n",
              "      background-color: #E8F0FE;\n",
              "      border: none;\n",
              "      border-radius: 50%;\n",
              "      cursor: pointer;\n",
              "      display: none;\n",
              "      fill: #1967D2;\n",
              "      height: 32px;\n",
              "      padding: 0 0 0 0;\n",
              "      width: 32px;\n",
              "    }\n",
              "\n",
              "    .colab-df-convert:hover {\n",
              "      background-color: #E2EBFA;\n",
              "      box-shadow: 0px 1px 2px rgba(60, 64, 67, 0.3), 0px 1px 3px 1px rgba(60, 64, 67, 0.15);\n",
              "      fill: #174EA6;\n",
              "    }\n",
              "\n",
              "    [theme=dark] .colab-df-convert {\n",
              "      background-color: #3B4455;\n",
              "      fill: #D2E3FC;\n",
              "    }\n",
              "\n",
              "    [theme=dark] .colab-df-convert:hover {\n",
              "      background-color: #434B5C;\n",
              "      box-shadow: 0px 1px 3px 1px rgba(0, 0, 0, 0.15);\n",
              "      filter: drop-shadow(0px 1px 2px rgba(0, 0, 0, 0.3));\n",
              "      fill: #FFFFFF;\n",
              "    }\n",
              "  </style>\n",
              "\n",
              "      <script>\n",
              "        const buttonEl =\n",
              "          document.querySelector('#df-b8da73f2-5296-4497-b675-b5e06d54dbff button.colab-df-convert');\n",
              "        buttonEl.style.display =\n",
              "          google.colab.kernel.accessAllowed ? 'block' : 'none';\n",
              "\n",
              "        async function convertToInteractive(key) {\n",
              "          const element = document.querySelector('#df-b8da73f2-5296-4497-b675-b5e06d54dbff');\n",
              "          const dataTable =\n",
              "            await google.colab.kernel.invokeFunction('convertToInteractive',\n",
              "                                                     [key], {});\n",
              "          if (!dataTable) return;\n",
              "\n",
              "          const docLinkHtml = 'Like what you see? Visit the ' +\n",
              "            '<a target=\"_blank\" href=https://colab.research.google.com/notebooks/data_table.ipynb>data table notebook</a>'\n",
              "            + ' to learn more about interactive tables.';\n",
              "          element.innerHTML = '';\n",
              "          dataTable['output_type'] = 'display_data';\n",
              "          await google.colab.output.renderOutput(dataTable, element);\n",
              "          const docLink = document.createElement('div');\n",
              "          docLink.innerHTML = docLinkHtml;\n",
              "          element.appendChild(docLink);\n",
              "        }\n",
              "      </script>\n",
              "    </div>\n",
              "  </div>\n",
              "  "
            ],
            "text/plain": [
              "                    date  daily_vaccinations\n",
              "location                                    \n",
              "United States 2020-12-13                 NaN\n",
              "United States 2020-12-14              4545.0\n",
              "United States 2020-12-15             27098.0\n",
              "United States 2020-12-16             71299.0\n",
              "United States 2020-12-17            121556.0\n",
              "...                  ...                 ...\n",
              "United States 2022-02-25            279746.0\n",
              "United States 2022-02-26            271896.0\n",
              "United States 2022-02-27            260524.0\n",
              "United States 2022-02-28            222105.0\n",
              "United States 2022-03-01            176778.0\n",
              "\n",
              "[444 rows x 2 columns]"
            ]
          },
          "metadata": {},
          "execution_count": 20
        }
      ]
    },
    {
      "cell_type": "markdown",
      "source": [
        "### Step 5: Build the function and plot the data\n",
        "\n",
        "First, we assign our X and Y values. We feed the Y values, or the first 444 consecutive days of `daily_vaccinations`, into `signal.savgol_filter()` method. This function requires 2 parameters: `windows_size` and `polyorder`. According to the documentation, `windows_size` is always a positive *odd* integer and `polyorder` is *any* positive integer that must be less than `window_length` {% fn 2 %}. Unfortunately my understanding of the concept is very limited, however the general goal is to \"[keep] the important features and getting rid of the meaningless fluctuations\" {% fn 3 %}. These variables control the smoothness of the curve: too low and the curve will loose the detail, too high -- it will become too distorted; the rule of thumb is to start low and build up from that. Because the exact values vary with data, they cannot be known beforehand. Controlling them visually will help us find the optimal curve for our purpose, hence the need for a slider to set the inputs more intuitively."
      ],
      "metadata": {
        "id": "isO5oQmyHFTZ"
      }
    },
    {
      "cell_type": "code",
      "metadata": {
        "id": "wMCOpD1IMqcw"
      },
      "source": [
        "def make_iplot(window_size, polyorder):\n",
        "  data_x = df[\"date\"].values\n",
        "  data_y = df[\"daily_vaccinations\"].values # original\n",
        "  data_y_filtered = signal.savgol_filter(data_y, window_size, polyorder) # smoothed\n",
        "\n",
        "  # Find peaks (max)\n",
        "  peak_indexes = signal.argrelextrema(data_y_filtered, np.greater)\n",
        "  peak_indexes = peak_indexes[0]\n",
        "\n",
        "  # Find valleys (min)\n",
        "  valley_indexes = signal.argrelextrema(data_y_filtered, np.less)\n",
        "  valley_indexes = valley_indexes[0]\n",
        "\n",
        "  # Matplotlib plot\n",
        "  plt.figure(figsize=(20, 5))\n",
        "  plt.plot(data_x, data_y, color=\"grey\") # line plot for the original data\n",
        "  plt.plot(data_x, data_y_filtered, color=\"black\") # line plot for the filtered data\n",
        "  plt.plot(data_x[valley_indexes], data_y_filtered[valley_indexes], \"o\", label=\"dip\", color=\"r\")\n",
        "  plt.plot(data_x[peak_indexes], data_y_filtered[peak_indexes], \"o\", label=\"peak\", color=\"g\")\n",
        "  plt.show()"
      ],
      "execution_count": null,
      "outputs": []
    },
    {
      "cell_type": "markdown",
      "source": [
        "With that said, we arbitrarily set the range of 1 to 100 for the `windows_size` slider, and 1 to 10 for `polyorder`."
      ],
      "metadata": {
        "id": "S9vMuDOey_rU"
      }
    },
    {
      "cell_type": "code",
      "source": [
        "# this line of code makes the figure appear in the output below\n",
        "%matplotlib inline\n",
        "\n",
        "iplot = interactive(\n",
        "  make_iplot,\n",
        "  window_size=(1,100,2),\n",
        "  polyorder=(1,10,1)\n",
        ")\n",
        "\n",
        "iplot"
      ],
      "metadata": {
        "id": "HnJjICIJyvyJ"
      },
      "execution_count": null,
      "outputs": []
    },
    {
      "cell_type": "markdown",
      "source": [
        "![](images/1.png)"
      ],
      "metadata": {
        "id": "a5B-lmq7H1--"
      }
    },
    {
      "cell_type": "markdown",
      "source": [
        "We set the initial values of 3 and 1 (`polyorder` < `windows_size`) as starting points, which gives us a result that isn't dissimilar to the original data (red dots represent dips and green ones -- peaks)."
      ],
      "metadata": {
        "id": "1JAO6emyzwsD"
      }
    },
    {
      "cell_type": "code",
      "source": [
        "# this line of code makes the figure appear in the output below\n",
        "%matplotlib inline\n",
        "\n",
        "iplot = interactive(\n",
        "  make_iplot,\n",
        "  window_size=(1,100,2),\n",
        "  polyorder=(1,10,1)\n",
        ")\n",
        "\n",
        "iplot"
      ],
      "metadata": {
        "id": "29ESEuHbzxIG"
      },
      "execution_count": null,
      "outputs": []
    },
    {
      "cell_type": "markdown",
      "source": [
        "![](images/2.png)"
      ],
      "metadata": {
        "id": "FV50_I2CHW4f"
      }
    },
    {
      "cell_type": "markdown",
      "source": [
        "With some experimentation, values 23 and 3 give us a relatively smooth graph with less visual noise.\n",
        "\n",
        "## Conclusion\n",
        "\n",
        "Applying the Savitzky-Golay filter helps get rid of noise and present a better picture of the data. This example may not be the best, as it doesn't fluctuate as much as other linear data, such as digital signals, however it can be applied to finding prominent features in any type of data.\n",
        "\n",
        "{{ '[Savitzky–Golay filter](https://en.wikipedia.org/wiki/Savitzky%E2%80%93Golay_filter)' | fndetail: 1 }}\n",
        "\n",
        "{{ '[scipy.signal.savgol_filter](https://docs.scipy.org/doc/scipy/reference/generated/scipy.signal.savgol_filter.html)' | fndetail: 2 }}\n",
        "\n",
        "{{ '[Smoothing Your Data with the Savitzky-Golay Filter and Python](https://blog.finxter.com/smoothing-your-data-with-the-savitzky-golay-filter-and-python/)' | fndetail: 3 }}"
      ],
      "metadata": {
        "id": "1SjshZR82qv7"
      }
    }
  ]
}